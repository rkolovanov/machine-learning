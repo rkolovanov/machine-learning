{
 "cells": [
  {
   "cell_type": "markdown",
   "id": "419fbdc8",
   "metadata": {},
   "source": [
    "# Машинное обучение. Практическое задание №2\n",
    "\n",
    "Выполнил: Колованов Родион Алексеевич, группа 9381."
   ]
  },
  {
   "cell_type": "markdown",
   "id": "df854bb8",
   "metadata": {},
   "source": [
    "## Задание 1\n",
    "\n",
    "Рассмотрим данные:\n",
    "\n",
    "| i  | a1  | a2  |\n",
    "|:--:|:---:|:---:|\n",
    "| x1 | 4   | 2.9 |\n",
    "| x2 | 2.5 | 1   |\n",
    "| x3 | 3.5 | 4   |\n",
    "| x4 | 2   | 2.1 |\n",
    "\n",
    "Строки соответствуют наблюдениям, столбцы признакам. $x_{i1}$ означает 1-й признак i-го наблюдения.\n",
    "\n",
    "Есть ядро (функция сходства):\n",
    "\n",
    "$$ K(x_i, x_j) = \\|x_i - x_j\\|^2 = (x_{i1} - x_{j1})^2 + (x_{i2} - x_{j2})^2 $$\n",
    "\n",
    "Рассчитайте ядерную матрицу. Ядерная матрица должна получиться размером 4х4, на главной диагонали которой стоят 0. По смыслу, ядерная матрица отражает близость между двумя наблюдениями согласно метрике, задаваемой функцией сходства."
   ]
  },
  {
   "cell_type": "markdown",
   "id": "91e9b028",
   "metadata": {},
   "source": [
    "### Решение"
   ]
  },
  {
   "cell_type": "markdown",
   "id": "6f54bc41",
   "metadata": {},
   "source": [
    "Подключим необходимые библиотеки:"
   ]
  },
  {
   "cell_type": "code",
   "execution_count": 70,
   "id": "696f9448",
   "metadata": {},
   "outputs": [],
   "source": [
    "import numpy as np\n",
    "import matplotlib.pyplot as plt"
   ]
  },
  {
   "cell_type": "markdown",
   "id": "3ef40096",
   "metadata": {},
   "source": [
    "Начальные данные:"
   ]
  },
  {
   "cell_type": "code",
   "execution_count": 18,
   "id": "909ebf0c",
   "metadata": {},
   "outputs": [],
   "source": [
    "def K(a, b):\n",
    "    return np.sum((a - b) ** 2)"
   ]
  },
  {
   "cell_type": "code",
   "execution_count": 19,
   "id": "eaf70853",
   "metadata": {},
   "outputs": [],
   "source": [
    "X = np.array([[4, 2.9], [2.5, 1], [3.5, 4], [2, 2.1]])\n",
    "X_len = len(X)"
   ]
  },
  {
   "cell_type": "markdown",
   "id": "f1bcde7b",
   "metadata": {},
   "source": [
    "Рассчитаем ядерную матрицу:"
   ]
  },
  {
   "cell_type": "code",
   "execution_count": 20,
   "id": "de600e17",
   "metadata": {},
   "outputs": [
    {
     "name": "stdout",
     "output_type": "stream",
     "text": [
      "[[ 0.    5.86  1.46  4.64]\n",
      " [ 5.86  0.   10.    1.46]\n",
      " [ 1.46 10.    0.    5.86]\n",
      " [ 4.64  1.46  5.86  0.  ]]\n"
     ]
    }
   ],
   "source": [
    "K_matrix = np.full((X_len, X_len), 0.0)\n",
    "\n",
    "for i in range(len(X)):\n",
    "    for j in range(len(X)):\n",
    "        K_matrix[i,j] = K(X[i,:], X[j,:])\n",
    "\n",
    "print(np.round(K_matrix, 3))"
   ]
  },
  {
   "cell_type": "markdown",
   "id": "50eea24e",
   "metadata": {},
   "source": [
    "## Задание 2\n",
    "\n",
    "Рассмотрим данные в виде матрицы $D$:\n",
    "\n",
    "| i  | a1  | a2  |\n",
    "|:--:|:---:|:---:|\n",
    "| x1 | 8   | -20 |\n",
    "| x2 | 0   | -1  |\n",
    "| x3 | 10  | -19 |\n",
    "| x4 | 10  | -20 |\n",
    "| x5 | 2   | 0   |\n",
    "\n",
    "Строки соответствуют наблюдениям, столбцы признакам.\n",
    "\n",
    "1. Рассчитайте среднее $\\mu$ и ковариационную матрицу $\\Sigma$ для матрицы $D$;\n",
    "2. Рассчитайте собственные числа для матрицы $\\Sigma$;\n",
    "3. Рассчитайте матрицу корреляций."
   ]
  },
  {
   "cell_type": "markdown",
   "id": "be731b8f",
   "metadata": {},
   "source": [
    "### Решение"
   ]
  },
  {
   "cell_type": "markdown",
   "id": "3cbc511f",
   "metadata": {},
   "source": [
    "Начальные данные:"
   ]
  },
  {
   "cell_type": "code",
   "execution_count": 119,
   "id": "2f766fa0",
   "metadata": {},
   "outputs": [],
   "source": [
    "D = np.array([[8, -20], [0, -1], [10, -19], [10, -20], [2, 0]])\n",
    "D_len = len(D)"
   ]
  },
  {
   "cell_type": "markdown",
   "id": "c140ad16",
   "metadata": {},
   "source": [
    "Рассчитаем среднее $\\mu$ и ковариационную матрицу $\\Sigma$ для матрицы $D$:"
   ]
  },
  {
   "cell_type": "code",
   "execution_count": 120,
   "id": "c0113846",
   "metadata": {},
   "outputs": [
    {
     "name": "stdout",
     "output_type": "stream",
     "text": [
      "Среднее: [  6. -12.]\n",
      "Матрица ковариации:\n",
      "[[ 22.  -47.5]\n",
      " [-47.5 110.5]]\n"
     ]
    }
   ],
   "source": [
    "D_mean = sum(D) / D_len\n",
    "D_cov = np.cov(D.T)\n",
    "\n",
    "print(\"Среднее: {}\\nМатрица ковариации:\\n{}\".format(D_mean, D_cov))"
   ]
  },
  {
   "cell_type": "markdown",
   "id": "36bdb571",
   "metadata": {},
   "source": [
    "Рассчитаем собственные числа для матрицы $\\Sigma$:"
   ]
  },
  {
   "cell_type": "code",
   "execution_count": 122,
   "id": "b248d012",
   "metadata": {},
   "outputs": [
    {
     "name": "stdout",
     "output_type": "stream",
     "text": [
      "[  1.332 131.168]\n"
     ]
    }
   ],
   "source": [
    "D_eig = np.linalg.eig(D_cov)\n",
    "D_eig_values = np.round(D_eig[0], 3)\n",
    "\n",
    "print(D_eig_values)"
   ]
  },
  {
   "cell_type": "markdown",
   "id": "25cc9a95",
   "metadata": {},
   "source": [
    "Рассчитаем матрицу корреляций:"
   ]
  },
  {
   "cell_type": "code",
   "execution_count": 123,
   "id": "d15973aa",
   "metadata": {},
   "outputs": [
    {
     "name": "stdout",
     "output_type": "stream",
     "text": [
      "[[ 1.    -0.963]\n",
      " [-0.963  1.   ]]\n"
     ]
    }
   ],
   "source": [
    "D_corr = np.round(np.corrcoef(D.T), 3)\n",
    "\n",
    "print(D_corr)"
   ]
  },
  {
   "cell_type": "markdown",
   "id": "8f227d61",
   "metadata": {},
   "source": [
    "## Задание 3\n",
    "\n",
    "Для данных и полученных результатов из второго задания:\n",
    "\n",
    "1. Рассчитай первые две главные компоненты;\n",
    "2. На основании собственных чисел рассчитайте остаточную дисперсию для каждой компоненты;\n",
    "3. В декартовых координатах исходного пространства, отобразите вектора соответствующие главным компонентам. (таким образом будет видно, на какие вектора проводилась проекция). В качестве точки, откуда начинаются вектора, используйте $\\mu$."
   ]
  },
  {
   "cell_type": "markdown",
   "id": "3845566c",
   "metadata": {},
   "source": [
    "### Решение"
   ]
  },
  {
   "cell_type": "markdown",
   "id": "172767b7",
   "metadata": {},
   "source": [
    "Найдем первые две компоненты:"
   ]
  },
  {
   "cell_type": "code",
   "execution_count": 231,
   "id": "967852c7",
   "metadata": {
    "scrolled": true
   },
   "outputs": [
    {
     "name": "stdout",
     "output_type": "stream",
     "text": [
      "[ 0.39897876 -0.91696017]\n",
      "[-0.91696017 -0.39897876]\n"
     ]
    }
   ],
   "source": [
    "D_centered = D - D_mean\n",
    "D_centered_eig = np.linalg.eig(np.cov(D_centered.T))\n",
    "\n",
    "# Упорядочиваем собственные числа и векторы в порядке уменьшения собственных чисел\n",
    "sorted_eig_indexes = list(np.argsort(D_centered_eig[0]))\n",
    "sorted_eig_indexes.reverse()\n",
    "\n",
    "for i in sorted_eig_indexes:\n",
    "    print(D_centered_eig[1][:,i])"
   ]
  },
  {
   "cell_type": "markdown",
   "id": "4d01a8eb",
   "metadata": {},
   "source": [
    "На основании собственных чисел рассчитаем остаточную дисперсию для каждой компоненты:"
   ]
  },
  {
   "cell_type": "code",
   "execution_count": 232,
   "id": "cc6b5095",
   "metadata": {},
   "outputs": [
    {
     "name": "stdout",
     "output_type": "stream",
     "text": [
      "Для первой компоненты: 131.16773640539233\n",
      "Для второй компоненты: 0.0\n"
     ]
    }
   ],
   "source": [
    "print(\"Для первой компоненты:\", D_centered_eig[0][1])\n",
    "print(\"Для второй компоненты:\", 0.0) # Нечего суммировать"
   ]
  },
  {
   "cell_type": "markdown",
   "id": "cf7cf1c9",
   "metadata": {},
   "source": [
    "В декартовых координатах исходного пространства, отобразим вектора, соответствующие главным компонентам:"
   ]
  },
  {
   "cell_type": "code",
   "execution_count": 235,
   "id": "84068c77",
   "metadata": {
    "scrolled": false
   },
   "outputs": [
    {
     "data": {
      "image/png": "[encoded data removed]",
      "text/plain": [
       "<Figure size 432x432 with 1 Axes>"
      ]
     },
     "metadata": {
      "needs_background": "light"
     },
     "output_type": "display_data"
    }
   ],
   "source": [
    "plt.figure(figsize=(6, 6))\n",
    "\n",
    "plt.scatter(D[:,0], D[:,1], label=\"Данные\")\n",
    "plt.scatter(D_mean[0], D_mean[1], label=\"Среднее\")\n",
    "\n",
    "plt.arrow(D_mean[0], D_mean[1], D_centered_eig[1][0,1], D_centered_eig[1][1,1],\n",
    "          head_width=0.4, head_length=1, fc='green', ec='black', label=\"PC1\")\n",
    "plt.arrow(D_mean[0], D_mean[1], D_centered_eig[1][0,0], D_centered_eig[1][1,0],\n",
    "          head_width=0.4, head_length=1, fc='red', ec='black', label=\"PC2\")\n",
    "\n",
    "plt.xlabel(\"A_1\")\n",
    "plt.ylabel(\"A_2\")\n",
    "plt.xlim(D_mean[0] - 15, D_mean[0] + 15)\n",
    "plt.ylim(D_mean[1] - 15, D_mean[1] + 15)\n",
    "plt.legend()\n",
    "plt.grid()\n",
    "plt.show()"
   ]
  }
 ],
 "metadata": {
  "kernelspec": {
   "display_name": "Python 3 (ipykernel)",
   "language": "python",
   "name": "python3"
  },
  "language_info": {
   "codemirror_mode": {
    "name": "ipython",
    "version": 3
   },
   "file_extension": ".py",
   "mimetype": "text/x-python",
   "name": "python",
   "nbconvert_exporter": "python",
   "pygments_lexer": "ipython3",
   "version": "3.9.12"
  }
 },
 "nbformat": 4,
 "nbformat_minor": 5
}
