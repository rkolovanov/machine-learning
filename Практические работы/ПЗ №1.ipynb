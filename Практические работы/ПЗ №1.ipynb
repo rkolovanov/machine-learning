{
 "cells": [
  {
   "cell_type": "markdown",
   "id": "419fbdc8",
   "metadata": {},
   "source": [
    "# Машинное обучение. Практическое задание №1\n",
    "\n",
    "Выполнил: Колованов Родион Алексеевич, группа 9381."
   ]
  },
  {
   "cell_type": "markdown",
   "id": "df854bb8",
   "metadata": {},
   "source": [
    "## Задание 1\n",
    "\n",
    "Предположим $X$ и $Y$ две случайные переменные отражающие возраст и вес, соответственно. Рассмотрим случайную выборку из 20 наблюдений:\n",
    "\n",
    "$ X = (69, 74, 68, 70, 72, 67, 66, 70, 76, 68, 72, 79, 74, 67, 66, 71, 74, 75, 75, 76) $\n",
    "\n",
    "$ Y = (153, 175, 155, 135, 172, 150, 115, 137, 200, 130, 140, 265, 185, 112, 140,  150, 165, 185, 210, 220) $\n",
    "\n",
    "Необходимо:\n",
    "\n",
    "1. Найти среднее, медиану и моду величины $X$;\n",
    "2. Найти дисперсию $Y$;\n",
    "3. Построить график нормального распределения для $X$;\n",
    "4. Найти вероятность того, что возраст больше 80;\n",
    "5. Найти двумерное мат. ожидания и ковариационную матрицу для этих двух величин;\n",
    "6. Определить корреляцию между $X$ и $Y$;\n",
    "7. Построить диаграмму рассеяния, отображающая зависимость между возрастом и весом."
   ]
  },
  {
   "cell_type": "markdown",
   "id": "91e9b028",
   "metadata": {},
   "source": [
    "### Решение"
   ]
  },
  {
   "cell_type": "markdown",
   "id": "6f54bc41",
   "metadata": {},
   "source": [
    "Подключим необходимые библиотеки:"
   ]
  },
  {
   "cell_type": "code",
   "execution_count": 115,
   "id": "696f9448",
   "metadata": {},
   "outputs": [],
   "source": [
    "import math\n",
    "import matplotlib.pyplot as plt\n",
    "import numpy as np\n",
    "import scipy.integrate as integrate"
   ]
  },
  {
   "cell_type": "markdown",
   "id": "1e6fc5a6",
   "metadata": {},
   "source": [
    "Начальные данные:"
   ]
  },
  {
   "cell_type": "code",
   "execution_count": 116,
   "id": "7ac36a43",
   "metadata": {},
   "outputs": [],
   "source": [
    "X = [69, 74, 68, 70, 72, 67, 66, 70, 76, 68, 72, 79, 74, 67, 66, 71, 74, 75, 75, 76]\n",
    "Y = [153, 175, 155, 135, 172, 150, 115, 137, 200, 130, 140, 265, 185, 112, 140, 150, 165, 185, 210, 220]\n",
    "sorted_X = sorted(X)\n",
    "sorted_Y = sorted(Y)"
   ]
  },
  {
   "cell_type": "markdown",
   "id": "c9d79ef6",
   "metadata": {},
   "source": [
    "#### 1. Найти среднее, медиану и моду величины $X$.\n",
    "\n",
    "$$ \\hat{\\mu} = \\frac{1}{n} \\sum_{i=1}^{n} x_i $$\n",
    "\n",
    "Найдем среднее величины $X$:"
   ]
  },
  {
   "cell_type": "code",
   "execution_count": 117,
   "id": "27b03877",
   "metadata": {},
   "outputs": [
    {
     "name": "stdout",
     "output_type": "stream",
     "text": [
      "Среднее: 71.45\n"
     ]
    }
   ],
   "source": [
    "def mean(data):\n",
    "    return sum(data) / len(data)\n",
    "\n",
    "X_mean = mean(X)\n",
    "\n",
    "print(\"Среднее: {}\".format(X_mean))"
   ]
  },
  {
   "cell_type": "markdown",
   "id": "e8bbd588",
   "metadata": {},
   "source": [
    "$$ \\hat{F}(m) = 0.5, где\\: m - медиана $$\n",
    "\n",
    "Для этого в вариационном ряду для $X$ возьмем центральный элемент. Если количество элементов четно, то берем среднее значение между двями элементами по середине.\n",
    "\n",
    "Найдем медиану величины $X$:"
   ]
  },
  {
   "cell_type": "code",
   "execution_count": 118,
   "id": "89262226",
   "metadata": {},
   "outputs": [
    {
     "name": "stdout",
     "output_type": "stream",
     "text": [
      "Медиана: 71.5\n"
     ]
    }
   ],
   "source": [
    "X_median = (sorted_X[len_X // 2] + sorted_X[len_X // 2 - 1]) / 2 if (len_X % 2 == 0) else sorted_X[len_X // 2]\n",
    "\n",
    "print(\"Медиана: {}\".format(X_median))"
   ]
  },
  {
   "cell_type": "markdown",
   "id": "172fa165",
   "metadata": {},
   "source": [
    "$$ mode(X) = argmax_x(\\hat{f}(x)) $$\n",
    "\n",
    "Найдем моду величины $X$:"
   ]
  },
  {
   "cell_type": "code",
   "execution_count": 119,
   "id": "ef8565c2",
   "metadata": {},
   "outputs": [
    {
     "name": "stdout",
     "output_type": "stream",
     "text": [
      "Мода: 74\n"
     ]
    }
   ],
   "source": [
    "X_mode = max([(x, X.count(x)) for x in set(X)], key=lambda x: x[1])[0]\n",
    "\n",
    "print(\"Мода: {}\".format(X_mode))"
   ]
  },
  {
   "cell_type": "markdown",
   "id": "0c87a143",
   "metadata": {},
   "source": [
    "#### 2. Найти дисперсию $Y$:\n",
    "\n",
    "$$ \\hat{\\sigma}^2 = \\frac{1}{n} \\sum_{i=1}^{n} (y_i - \\hat{\\mu})^2 $$\n",
    "\n",
    "Найдем дисперсию величины $Y$:"
   ]
  },
  {
   "cell_type": "code",
   "execution_count": 120,
   "id": "437b5302",
   "metadata": {},
   "outputs": [
    {
     "name": "stdout",
     "output_type": "stream",
     "text": [
      "Дисперсия: 1369.21\n"
     ]
    }
   ],
   "source": [
    "def variance(data):\n",
    "    m = mean(data)\n",
    "    return sum([(v - m) ** 2 for v in data]) / len(data)\n",
    "\n",
    "Y_variance = variance(Y)\n",
    "\n",
    "print(\"Дисперсия: {}\".format(round(Y_variance, 5)))"
   ]
  },
  {
   "cell_type": "markdown",
   "id": "203d7e6b",
   "metadata": {},
   "source": [
    "#### 3. Построить график нормального распределения для $X$:"
   ]
  },
  {
   "cell_type": "code",
   "execution_count": 121,
   "id": "41ad03d6",
   "metadata": {},
   "outputs": [],
   "source": [
    "# Плотность нормального распределения\n",
    "def norm_pdf(x, mu, sigma):\n",
    "    return (math.e ** (-0.5 * ((x - mu) ** 2) / (sigma ** 2))) / (sigma * math.sqrt(2 * math.pi))"
   ]
  },
  {
   "cell_type": "code",
   "execution_count": 122,
   "id": "023da9fb",
   "metadata": {},
   "outputs": [
    {
     "data": {
      "image/png": "[encoded data removed]",
      "text/plain": [
       "<Figure size 432x288 with 1 Axes>"
      ]
     },
     "metadata": {
      "needs_background": "light"
     },
     "output_type": "display_data"
    }
   ],
   "source": [
    "X_variance = variance(X)\n",
    "X_deviation = math.sqrt(X_variance)\n",
    "\n",
    "x_values = np.linspace(X_mean - 3 * X_deviation, X_mean + 3 * X_deviation, 1000)\n",
    "y_values = [norm_pdf(x, X_mean, X_deviation) for x in x_values]\n",
    "\n",
    "plt.plot(x_values, y_values)\n",
    "plt.show()"
   ]
  },
  {
   "cell_type": "markdown",
   "id": "b27b3d50",
   "metadata": {},
   "source": [
    "#### 4. Найти вероятность того, что возраст больше 80:\n",
    "\n",
    "Для этого можно взять интеграл по плотности вероятности:"
   ]
  },
  {
   "cell_type": "code",
   "execution_count": 123,
   "id": "c6226271",
   "metadata": {},
   "outputs": [
    {
     "name": "stdout",
     "output_type": "stream",
     "text": [
      "Вероятность: 0.01079\n"
     ]
    }
   ],
   "source": [
    "# Плотность нормального распределения величины X\n",
    "def x_norm_pdf(x):\n",
    "    return norm_pdf(x, X_mean, X_deviation)\n",
    "\n",
    "# Берем интеграл по плотности от 80 до +inf\n",
    "p = integrate.quad(x_norm_pdf, 80, np.inf)[0]\n",
    "\n",
    "print(\"Вероятность:\", round(p, 5))"
   ]
  },
  {
   "cell_type": "markdown",
   "id": "b23654f2",
   "metadata": {},
   "source": [
    "#### 5. Найти двумерное мат. ожидания и ковариационную матрицу для $X$ и $Y$:"
   ]
  },
  {
   "cell_type": "markdown",
   "id": "1b7238af",
   "metadata": {},
   "source": [
    "Найдем двумерное мат. ожидания для $X$ и $Y$:"
   ]
  },
  {
   "cell_type": "code",
   "execution_count": 124,
   "id": "098cff52",
   "metadata": {
    "scrolled": false
   },
   "outputs": [
    {
     "name": "stdout",
     "output_type": "stream",
     "text": [
      "Вектор мат. ожиданий:\n",
      " [[ 71.45]\n",
      " [164.7 ]]\n"
     ]
    }
   ],
   "source": [
    "Y_mean = mean(Y)\n",
    "\n",
    "print(\"Вектор мат. ожиданий:\\n\", np.array([[X_mean], [Y_mean]]))"
   ]
  },
  {
   "cell_type": "markdown",
   "id": "7d6e72bd",
   "metadata": {},
   "source": [
    "$$ \\hat{\\sigma}_{12} = \\frac{1}{n} \\sum_{i=1}^{n} (x_{i1} - \\hat{\\mu}_1)(x_{i2} - \\hat{\\mu}_2) $$\n",
    "\n",
    "Найдем матрицу ковариации для $X$ и $Y$:"
   ]
  },
  {
   "cell_type": "code",
   "execution_count": 125,
   "id": "4e0a4e6c",
   "metadata": {},
   "outputs": [
    {
     "name": "stdout",
     "output_type": "stream",
     "text": [
      "Ковариационная матрица:\n",
      " [[  13.8475  122.435 ]\n",
      " [ 122.435  1369.21  ]]\n"
     ]
    }
   ],
   "source": [
    "def covariance(data1, data2):\n",
    "    assert(len(data1) == len(data2))\n",
    "    l = len(data1)\n",
    "    data1_mean = mean(data1)\n",
    "    data2_mean = mean(data2)\n",
    "    return sum([(data1[i] - data1_mean) * (data2[i] - data2_mean) for i in range(l)]) / l\n",
    "\n",
    "cov = np.array([[covariance(X, X), covariance(X, Y)],\n",
    "                [covariance(Y, X), covariance(Y, Y)]])\n",
    "\n",
    "print(\"Ковариационная матрица:\\n\", cov)"
   ]
  },
  {
   "cell_type": "markdown",
   "id": "56da8f58",
   "metadata": {},
   "source": [
    "#### 6. Определить корреляцию между $X$ и $Y$:\n",
    "\n",
    "$$ \\hat{\\rho} = \\frac{\\hat{\\sigma}_{12}}{\\sqrt{\\hat{\\sigma}_1^2 \\hat{\\sigma}_2^2}} $$\n",
    "\n",
    "Найдем коэффициент корреляции между $X$ и $Y$:"
   ]
  },
  {
   "cell_type": "code",
   "execution_count": 126,
   "id": "79e2f346",
   "metadata": {},
   "outputs": [
    {
     "name": "stdout",
     "output_type": "stream",
     "text": [
      "Коэффициент корреляции: 0.88917\n"
     ]
    }
   ],
   "source": [
    "corr = covariance(X, Y) / math.sqrt(X_variance * Y_variance)\n",
    "\n",
    "print(\"Коэффициент корреляции:\", round(corr, 5))"
   ]
  },
  {
   "cell_type": "markdown",
   "id": "80ae632d",
   "metadata": {},
   "source": [
    "#### 7. Построить диаграмму рассеяния, отображающая зависимость между возрастом и весом:"
   ]
  },
  {
   "cell_type": "code",
   "execution_count": 127,
   "id": "88b53c6e",
   "metadata": {
    "scrolled": true
   },
   "outputs": [
    {
     "data": {
      "image/png": "[encoded data removed]",
      "text/plain": [
       "<Figure size 432x288 with 1 Axes>"
      ]
     },
     "metadata": {
      "needs_background": "light"
     },
     "output_type": "display_data"
    }
   ],
   "source": [
    "plt.xlabel(\"Возраст\")\n",
    "plt.ylabel(\"Вес\")\n",
    "plt.scatter(X, Y)\n",
    "plt.show()"
   ]
  },
  {
   "cell_type": "markdown",
   "id": "50eea24e",
   "metadata": {},
   "source": [
    "## Задание 2\n",
    "\n",
    "Для следующего набора данных\n",
    "\n",
    "|   | X_1 | X_2 | X_3 |\n",
    "|:--|:---:|:---:|:---:|\n",
    "| a | 17  | 17  | 12  |\n",
    "| b | 11  | 9   | 13  |\n",
    "| c | 11  | 8   | 19  |\n",
    "\n",
    "Рассчитайте ковариационную матрицу и обобщенную дисперсию."
   ]
  },
  {
   "cell_type": "markdown",
   "id": "be731b8f",
   "metadata": {},
   "source": [
    "### Решение"
   ]
  },
  {
   "cell_type": "markdown",
   "id": "3cbc511f",
   "metadata": {},
   "source": [
    "Начальные данные:"
   ]
  },
  {
   "cell_type": "code",
   "execution_count": 128,
   "id": "2f766fa0",
   "metadata": {},
   "outputs": [],
   "source": [
    "X_1 = [17, 11, 11]\n",
    "X_2 = [17, 9, 8]\n",
    "X_3 = [12, 13, 19]"
   ]
  },
  {
   "cell_type": "markdown",
   "id": "599e6870",
   "metadata": {},
   "source": [
    "Найдем ковариационную матрицу для $X_1$, $X_2$ и $X_3$:"
   ]
  },
  {
   "cell_type": "code",
   "execution_count": 140,
   "id": "7c1b23d7",
   "metadata": {},
   "outputs": [
    {
     "name": "stdout",
     "output_type": "stream",
     "text": [
      "13.0\n",
      "8.0\n",
      "[[12.         17.        ]\n",
      " [17.         24.33333333]]\n",
      "Ковариационная матрица:\n",
      " [[ 8.      11.33333 -5.33333]\n",
      " [11.33333 16.22222 -8.55556]\n",
      " [-5.33333 -8.55556  9.55556]]\n"
     ]
    }
   ],
   "source": [
    "cov = np.array([[covariance(X_1, X_1), covariance(X_1, X_2), covariance(X_1, X_3)],\n",
    "                [covariance(X_2, X_1), covariance(X_2, X_2), covariance(X_2, X_3)],\n",
    "                [covariance(X_3, X_1), covariance(X_3, X_2), covariance(X_3, X_3)]])\n",
    "\n",
    "import statistics\n",
    "print(mean(X_1))\n",
    "print(variance(X_1))\n",
    "print(np.cov(X_1, X_2))\n",
    "\n",
    "print(\"Ковариационная матрица:\\n\", np.round(cov, 5))"
   ]
  },
  {
   "cell_type": "markdown",
   "id": "b2252bd9",
   "metadata": {},
   "source": [
    "Найдем обобщенную дисперсию:"
   ]
  },
  {
   "cell_type": "code",
   "execution_count": 130,
   "id": "c0861237",
   "metadata": {},
   "outputs": [
    {
     "name": "stdout",
     "output_type": "stream",
     "text": [
      "Обобщенная дисперсия: -0.0\n"
     ]
    }
   ],
   "source": [
    "print(\"Обобщенная дисперсия:\", round(np.linalg.det(cov), 5))"
   ]
  },
  {
   "cell_type": "markdown",
   "id": "55610d7b",
   "metadata": {},
   "source": [
    "## Задание 3\n",
    "\n",
    "Даны два одномерных нормальных распределения $N_a$ и $N_b$ с мат. ожиданиями 4, 8 и СКО 1, 2 соответственно.\n",
    "\n",
    "1. Для каждого из значения $\\{5, 6, 7\\}$ определите какое из распределений сгенерировало значение с большей вероятностью;\n",
    "2. Найди значение, которой могло быть сгенерировано обеими распределениями с равной вероятностью."
   ]
  },
  {
   "cell_type": "markdown",
   "id": "bf43c8ff",
   "metadata": {},
   "source": [
    "### Решение\n",
    "\n",
    "Начальные данные:"
   ]
  },
  {
   "cell_type": "code",
   "execution_count": 131,
   "id": "42de9b51",
   "metadata": {},
   "outputs": [],
   "source": [
    "a_mean = 4\n",
    "b_mean = 8\n",
    "a_deviation = 1\n",
    "b_deviation = 2\n",
    "\n",
    "def norm_a_pdf(x):\n",
    "    return norm_pdf(x, a_mean, a_deviation)\n",
    "\n",
    "def norm_b_pdf(x):\n",
    "    return norm_pdf(x, b_mean, b_deviation)"
   ]
  },
  {
   "cell_type": "markdown",
   "id": "40612d7d",
   "metadata": {},
   "source": [
    "#### 1. Для каждого из значения $\\{5, 6, 7\\}$ определим, какое из распределений сгенерировало выбранное значение с большей вероятностью:\n",
    "\n",
    "Сравним значения в точках $\\{5, 6, 7\\}$ по плотности вероятности для $N_a$ и $N_b$:"
   ]
  },
  {
   "cell_type": "code",
   "execution_count": 132,
   "id": "59066a0c",
   "metadata": {
    "scrolled": true
   },
   "outputs": [
    {
     "name": "stdout",
     "output_type": "stream",
     "text": [
      "Распределение Na генерирует значение 5 с большей вероятностью.\n",
      "Распределение Nb генерирует значение 6 с большей вероятностью.\n",
      "Распределение Nb генерирует значение 7 с большей вероятностью.\n"
     ]
    }
   ],
   "source": [
    "values = [5, 6, 7]\n",
    "\n",
    "for v in values:\n",
    "    n = \"Na\" if norm_a_pdf(v) >= norm_b_pdf(v) else \"Nb\"\n",
    "    print(\"Распределение {} генерирует значение {} с большей вероятностью.\".format(n, v))"
   ]
  },
  {
   "cell_type": "markdown",
   "id": "a97e606e",
   "metadata": {},
   "source": [
    "Для наглядности посторим графики плотности вероятности для $N_a$ и $N_b$:"
   ]
  },
  {
   "cell_type": "code",
   "execution_count": 133,
   "id": "7c6c92bd",
   "metadata": {},
   "outputs": [
    {
     "data": {
      "image/png": "[encoded data removed]",
      "text/plain": [
       "<Figure size 432x288 with 1 Axes>"
      ]
     },
     "metadata": {
      "needs_background": "light"
     },
     "output_type": "display_data"
    }
   ],
   "source": [
    "x_values = np.linspace(0, 16, 1000)\n",
    "y_values = [norm_a_pdf(x) for x in x_values]\n",
    "\n",
    "plt.plot(x_values, y_values, label=\"Na\")\n",
    "\n",
    "x_values = np.linspace(0, 16, 1000)\n",
    "y_values = [norm_b_pdf(x) for x in x_values]\n",
    "\n",
    "plt.plot(x_values, y_values, label=\"Nb\")\n",
    "\n",
    "plt.legend()\n",
    "plt.show()"
   ]
  },
  {
   "cell_type": "markdown",
   "id": "32d57ffb",
   "metadata": {},
   "source": [
    "#### 2. Найдем значение, которой могло быть сгенерировано обеими распределениями с равной вероятностью:\n",
    "\n",
    "Видно, что графики плотностей пересекаются где-то в интервале от 5 до 6."
   ]
  },
  {
   "cell_type": "code",
   "execution_count": 134,
   "id": "17b52441",
   "metadata": {},
   "outputs": [
    {
     "name": "stdout",
     "output_type": "stream",
     "text": [
      "Значение 5.659906 генерируется обоими распределениями с равной вероятностью (с точностью 0.000001).\n"
     ]
    }
   ],
   "source": [
    "x_values = np.linspace(5, 6, 1000000)\n",
    "\n",
    "for x in x_values:\n",
    "    if abs(norm_a_pdf(x) - norm_b_pdf(x)) < 0.000001:\n",
    "        print(\"Значение {} генерируется обоими распределениями с равной вероятностью (с точностью 0.000001).\".format(round(x, 6)))\n",
    "        break"
   ]
  }
 ],
 "metadata": {
  "kernelspec": {
   "display_name": "Python 3 (ipykernel)",
   "language": "python",
   "name": "python3"
  },
  "language_info": {
   "codemirror_mode": {
    "name": "ipython",
    "version": 3
   },
   "file_extension": ".py",
   "mimetype": "text/x-python",
   "name": "python",
   "nbconvert_exporter": "python",
   "pygments_lexer": "ipython3",
   "version": "3.9.12"
  }
 },
 "nbformat": 4,
 "nbformat_minor": 5
}
